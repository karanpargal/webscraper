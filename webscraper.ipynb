{
 "cells": [
  {
   "cell_type": "code",
   "execution_count": 1,
   "id": "0a5f2071",
   "metadata": {},
   "outputs": [],
   "source": [
    "import requests\n",
    "import selenium\n",
    "from selenium import webdriver\n",
    "import os\n",
    "import time\n",
    "import io\n",
    "from webdriver_manager.chrome import ChromeDriverManager\n",
    "from selenium.common.exceptions import ElementClickInterceptedException\n",
    "from bs4 import BeautifulSoup\n",
    "import pandas"
   ]
  },
  {
   "cell_type": "markdown",
   "id": "b419d249",
   "metadata": {},
   "source": [
    "importing all modules required"
   ]
  },
  {
   "cell_type": "code",
   "execution_count": 2,
   "id": "37d9e82d",
   "metadata": {},
   "outputs": [
    {
     "name": "stderr",
     "output_type": "stream",
     "text": [
      "\n",
      "\n",
      "====== WebDriver manager ======\n",
      "Current google-chrome version is 96.0.4664\n",
      "Get LATEST chromedriver version for 96.0.4664 google-chrome\n",
      "Driver [/Users/karan/.wdm/drivers/chromedriver/mac64/96.0.4664.45/chromedriver] found in cache\n",
      "<ipython-input-2-c026f0c15647>:1: DeprecationWarning: executable_path has been deprecated, please pass in a Service object\n",
      "  driver = webdriver.Chrome(ChromeDriverManager().install())\n"
     ]
    }
   ],
   "source": [
    "driver = webdriver.Chrome(ChromeDriverManager().install())"
   ]
  },
  {
   "cell_type": "markdown",
   "id": "de8625b6",
   "metadata": {},
   "source": [
    "Installing chrome driver"
   ]
  },
  {
   "cell_type": "code",
   "execution_count": 3,
   "id": "a77ad3cc",
   "metadata": {},
   "outputs": [],
   "source": [
    "driver.get(\"https://en.wikipedia.org/wiki/List_of_Marvel_Cinematic_Universe_films\")"
   ]
  },
  {
   "cell_type": "code",
   "execution_count": 4,
   "id": "9dbdc5d0",
   "metadata": {},
   "outputs": [],
   "source": [
    "def scrape():\n",
    "    data=[]\n",
    "    source=driver.page_source\n",
    "    soup=BeautifulSoup(source,'html5lib')\n",
    "    table = soup.find(\"table\", class_=\"wikitable plainrowheaders\")\n",
    "    rows = table.find_all(\"tr\")\n",
    "    for row in rows:\n",
    "        name = row.find_all(\"th\")\n",
    "        dataa =[cell_data.text.strip() for cell_data in name]\n",
    "        data.append(dataa)\n",
    "    csvdata = pandas.DataFrame(data)\n",
    "    csvdata.to_csv('moviename2.csv', index=False)"
   ]
  },
  {
   "cell_type": "code",
   "execution_count": 5,
   "id": "0baed4fe",
   "metadata": {},
   "outputs": [],
   "source": [
    "def main():\n",
    "    scrape()\n",
    "    os.system('cls||clear')\n",
    "    print(\"Scraping Done.\")\n",
    "    driver.quit()"
   ]
  },
  {
   "cell_type": "code",
   "execution_count": 6,
   "id": "304f69b2",
   "metadata": {},
   "outputs": [
    {
     "name": "stdout",
     "output_type": "stream",
     "text": [
      "TASK COMPLETED !\n",
      "DATA SCRAPED SUCESSFULLY.\n"
     ]
    }
   ],
   "source": [
    "if __name__ == \"__main__\":\n",
    "    main()"
   ]
  }
 ],
 "metadata": {
  "kernelspec": {
   "display_name": "Python 3",
   "language": "python",
   "name": "python3"
  },
  "language_info": {
   "codemirror_mode": {
    "name": "ipython",
    "version": 3
   },
   "file_extension": ".py",
   "mimetype": "text/x-python",
   "name": "python",
   "nbconvert_exporter": "python",
   "pygments_lexer": "ipython3",
   "version": "3.8.8"
  }
 },
 "nbformat": 4,
 "nbformat_minor": 5
}
